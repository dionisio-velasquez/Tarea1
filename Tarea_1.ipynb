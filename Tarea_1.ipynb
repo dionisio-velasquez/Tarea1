{
 "cells": [
  {
   "cell_type": "markdown",
   "metadata": {},
   "source": [
    "MAESTRÍA EN DATA SCIENCE\n",
    "========\n",
    "\n",
    "DIONISIO ESTUARDO VELÁSQUEZ MÉNDEZ\n",
    "===\n",
    "## Carnet No. 21007673"
   ]
  },
  {
   "cell_type": "markdown",
   "metadata": {},
   "source": [
    "### Sistemas de control de Versiones (Version Control System - VCS)"
   ]
  },
  {
   "cell_type": "markdown",
   "metadata": {},
   "source": [
    "Los sistemas de control de versiones sirven para rastrear cambios en el código fuente u otra colección de archivos y carpetas. Es útil para trabajar con un grupo de personas en un proyecto de software."
   ]
  },
  {
   "cell_type": "markdown",
   "metadata": {},
   "source": [
    "Los sistemas de control de versiones rastrean un folder y su contenido en una serie de capturas instantáneas **(snapshot)**, donde cada captura encapsula el estado entero del archivo/folder sin un directorio de nivel superior. Los sistemas de control de versiones mantienen metadatos como quien creó la captura, que autor modificó una característica en particular del archivo, cual fue el cambio en particular hecho. Adicional a los metadatos de autores, conecta fechas y puede almacenar mensajes asociados con cada captura."
   ]
  },
  {
   "cell_type": "markdown",
   "metadata": {},
   "source": [
    "La utilidad de los Sistemas de Control de Versiones **(VCS)** si uno trabaja en un proyecto individual, es que uno puede revisar versiones antiguas del código y revisar porque se realizó un cambio mediante la conexión de mensajes. Trabajar en diferentes cosas en paralelo al usar diferentes ramas de desarrollo. Se puede trabajar en parelelo arreglando características, mientras se desarrollan nuevas. Las instrucciones utilizan git, incluso en proyectos pequeños como una tarea."
   ]
  },
  {
   "cell_type": "markdown",
   "metadata": {},
   "source": [
    "Algunas de las ventajas de git como Sistema de Control de Versiones (VCS):\n",
    "1. Útil y poderosa para trabajar grupalmente: Permite que diferentes personas trabajen en el mismo código, al mismo tiempo. Por ejemplo, compartir parches de código.\n",
    "2. Herramienta poderosa para trabajar individual: Puede resolver funcionalidades medias, por ejemplo: ¿Quién escribió un modelo particular en un proyecto? ¿Quién escribió una línea particular en un modelo de un proyecto? ¿Por qué se cambió una línea en particular? ¿cuándo se cambió? ¿Quién la cambió?\n",
    "3. Útil para rastrear cambios hacia atrás: cuando dejó de funcionar un modelo porque se introdujo una regresión; se puede rastrear cuando fue que se introdujo un “break” y dejó de funcionar.\n",
    "4. VCS ayuda la colaboración de otros autores y a la ramificación de versiones."
   ]
  },
  {
   "cell_type": "markdown",
   "metadata": {},
   "source": [
    "Actualmente GIT es la versión por defecto cuando hablamos de sistemas de control de versiones. El historial de modelos git se almacena en *snapshots* que es una colección de archivos y folders dentro de un directorio principal y está compuesto de la siguiente estructura:\n",
    "- Raíz\n",
    "- Foo\n",
    "- Baz"
   ]
  },
  {
   "cell_type": "markdown",
   "metadata": {},
   "source": [
    "En el cuadro siguiente se detallan algunos comandos git y su función:\n",
    "\n",
    "|1     |Comando git          |concepto|\n",
    "|:-----|:---------------:|:----|\n",
    "|1. |git init |comando para iniciar un repositorio git. Esto genera un archivo .git|\n",
    "|2. |git help init |despliega las opciones de ayuda para el comando git init|\n",
    "|3. |echo |crea un nuevo archivo. Debe acompañarse del nombre y tipo de archivo.|\n",
    "|4. |git add |identifica los cambios realizados al último snapshot y los traslada al área de staging, listos para que puedan ser incluidos en un nuevo snapshot en el comando git commit|\n",
    "|5. |git status |provee el estatus actual del archivo git, por ejemplo, cambios.|\n",
    "|6. |git commit |crea un nuevo snapshot, adicionando los cambios que fueron trasladados al área de staging, mediante el comando git add.|"
   ]
  },
  {
   "cell_type": "markdown",
   "metadata": {},
   "source": [
    "La conferencia que soporta esta información se encuentra disponible en https://missing.csail.mit.edu/2020/version-control/"
   ]
  }
 ],
 "metadata": {
  "kernelspec": {
   "display_name": "Python 3",
   "language": "python",
   "name": "python3"
  },
  "language_info": {
   "codemirror_mode": {
    "name": "ipython",
    "version": 3
   },
   "file_extension": ".py",
   "mimetype": "text/x-python",
   "name": "python",
   "nbconvert_exporter": "python",
   "pygments_lexer": "ipython3",
   "version": "3.8.5"
  }
 },
 "nbformat": 4,
 "nbformat_minor": 4
}
